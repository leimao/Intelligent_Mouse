{
 "cells": [
  {
   "cell_type": "code",
   "execution_count": 1,
   "metadata": {
    "collapsed": false
   },
   "outputs": [
    {
     "data": {
      "application/javascript": [
       "IPython.notebook.set_autosave_interval(0)"
      ]
     },
     "metadata": {},
     "output_type": "display_data"
    },
    {
     "name": "stdout",
     "output_type": "stream",
     "text": [
      "Autosave disabled\n"
     ]
    }
   ],
   "source": [
    "import pandas as pd\n",
    "import numpy as np\n",
    "import matplotlib.pyplot as plt\n",
    "%matplotlib inline\n",
    "%autosave 0"
   ]
  },
  {
   "cell_type": "code",
   "execution_count": 2,
   "metadata": {
    "collapsed": true
   },
   "outputs": [],
   "source": [
    "summary_mean = pd.read_csv('summary_mean.csv', sep = ',')\n",
    "summary_std = pd.read_csv('summary_std.csv', sep = ',')"
   ]
  },
  {
   "cell_type": "code",
   "execution_count": 3,
   "metadata": {
    "collapsed": false
   },
   "outputs": [
    {
     "data": {
      "text/html": [
       "<div>\n",
       "<table border=\"1\" class=\"dataframe\">\n",
       "  <thead>\n",
       "    <tr style=\"text-align: right;\">\n",
       "      <th></th>\n",
       "      <th>Maze</th>\n",
       "      <th>Mode</th>\n",
       "      <th>Intuition</th>\n",
       "      <th>Heuristics</th>\n",
       "      <th>Time Steps 1</th>\n",
       "      <th>Path Length 1</th>\n",
       "      <th>Time Steps 2</th>\n",
       "      <th>Path Length 2</th>\n",
       "      <th>Time Steps 3</th>\n",
       "      <th>Path Length 3</th>\n",
       "      <th>Coverage</th>\n",
       "      <th>Score</th>\n",
       "      <th>Exploration Time</th>\n",
       "      <th>Computation Time</th>\n",
       "      <th>Maze Size</th>\n",
       "      <th>Number of Grid Visited Per Time Step during Exploration</th>\n",
       "      <th>Number of Grid Visited Per Path Length during Exploration</th>\n",
       "    </tr>\n",
       "  </thead>\n",
       "  <tbody>\n",
       "    <tr>\n",
       "      <th>0</th>\n",
       "      <td>1</td>\n",
       "      <td>complete</td>\n",
       "      <td>False</td>\n",
       "      <td>False</td>\n",
       "      <td>185.5</td>\n",
       "      <td>220.4</td>\n",
       "      <td>11.6</td>\n",
       "      <td>20.4</td>\n",
       "      <td>17.0</td>\n",
       "      <td>32.0</td>\n",
       "      <td>1.0</td>\n",
       "      <td>23.57</td>\n",
       "      <td>415.40</td>\n",
       "      <td>415.81</td>\n",
       "      <td>144.0</td>\n",
       "      <td>0.78</td>\n",
       "      <td>0.65</td>\n",
       "    </tr>\n",
       "    <tr>\n",
       "      <th>1</th>\n",
       "      <td>1</td>\n",
       "      <td>complete</td>\n",
       "      <td>False</td>\n",
       "      <td>True</td>\n",
       "      <td>189.1</td>\n",
       "      <td>225.7</td>\n",
       "      <td>9.0</td>\n",
       "      <td>15.9</td>\n",
       "      <td>17.0</td>\n",
       "      <td>32.0</td>\n",
       "      <td>1.0</td>\n",
       "      <td>23.60</td>\n",
       "      <td>109.17</td>\n",
       "      <td>109.62</td>\n",
       "      <td>144.0</td>\n",
       "      <td>0.76</td>\n",
       "      <td>0.64</td>\n",
       "    </tr>\n",
       "    <tr>\n",
       "      <th>2</th>\n",
       "      <td>1</td>\n",
       "      <td>complete</td>\n",
       "      <td>True</td>\n",
       "      <td>False</td>\n",
       "      <td>186.8</td>\n",
       "      <td>219.7</td>\n",
       "      <td>7.6</td>\n",
       "      <td>15.1</td>\n",
       "      <td>17.0</td>\n",
       "      <td>32.0</td>\n",
       "      <td>1.0</td>\n",
       "      <td>23.48</td>\n",
       "      <td>79.08</td>\n",
       "      <td>79.43</td>\n",
       "      <td>144.0</td>\n",
       "      <td>0.77</td>\n",
       "      <td>0.66</td>\n",
       "    </tr>\n",
       "    <tr>\n",
       "      <th>3</th>\n",
       "      <td>1</td>\n",
       "      <td>complete</td>\n",
       "      <td>True</td>\n",
       "      <td>True</td>\n",
       "      <td>186.1</td>\n",
       "      <td>216.5</td>\n",
       "      <td>9.6</td>\n",
       "      <td>17.3</td>\n",
       "      <td>17.0</td>\n",
       "      <td>32.0</td>\n",
       "      <td>1.0</td>\n",
       "      <td>23.52</td>\n",
       "      <td>43.44</td>\n",
       "      <td>43.79</td>\n",
       "      <td>144.0</td>\n",
       "      <td>0.77</td>\n",
       "      <td>0.67</td>\n",
       "    </tr>\n",
       "    <tr>\n",
       "      <th>4</th>\n",
       "      <td>1</td>\n",
       "      <td>incomplete</td>\n",
       "      <td>False</td>\n",
       "      <td>False</td>\n",
       "      <td>118.8</td>\n",
       "      <td>136.2</td>\n",
       "      <td>18.3</td>\n",
       "      <td>31.2</td>\n",
       "      <td>18.3</td>\n",
       "      <td>32.4</td>\n",
       "      <td>0.7</td>\n",
       "      <td>22.87</td>\n",
       "      <td>257.91</td>\n",
       "      <td>258.24</td>\n",
       "      <td>144.0</td>\n",
       "      <td>0.88</td>\n",
       "      <td>0.78</td>\n",
       "    </tr>\n",
       "  </tbody>\n",
       "</table>\n",
       "</div>"
      ],
      "text/plain": [
       "   Maze        Mode Intuition Heuristics  Time Steps 1  Path Length 1  \\\n",
       "0     1    complete     False      False         185.5          220.4   \n",
       "1     1    complete     False       True         189.1          225.7   \n",
       "2     1    complete      True      False         186.8          219.7   \n",
       "3     1    complete      True       True         186.1          216.5   \n",
       "4     1  incomplete     False      False         118.8          136.2   \n",
       "\n",
       "   Time Steps 2  Path Length 2  Time Steps 3  Path Length 3  Coverage  Score  \\\n",
       "0          11.6           20.4          17.0           32.0       1.0  23.57   \n",
       "1           9.0           15.9          17.0           32.0       1.0  23.60   \n",
       "2           7.6           15.1          17.0           32.0       1.0  23.48   \n",
       "3           9.6           17.3          17.0           32.0       1.0  23.52   \n",
       "4          18.3           31.2          18.3           32.4       0.7  22.87   \n",
       "\n",
       "   Exploration Time  Computation Time  Maze Size  \\\n",
       "0            415.40            415.81      144.0   \n",
       "1            109.17            109.62      144.0   \n",
       "2             79.08             79.43      144.0   \n",
       "3             43.44             43.79      144.0   \n",
       "4            257.91            258.24      144.0   \n",
       "\n",
       "   Number of Grid Visited Per Time Step during Exploration  \\\n",
       "0                                               0.78         \n",
       "1                                               0.76         \n",
       "2                                               0.77         \n",
       "3                                               0.77         \n",
       "4                                               0.88         \n",
       "\n",
       "   Number of Grid Visited Per Path Length during Exploration  \n",
       "0                                               0.65          \n",
       "1                                               0.64          \n",
       "2                                               0.66          \n",
       "3                                               0.67          \n",
       "4                                               0.78          "
      ]
     },
     "execution_count": 3,
     "metadata": {},
     "output_type": "execute_result"
    }
   ],
   "source": [
    "summary_mean.head()"
   ]
  },
  {
   "cell_type": "markdown",
   "metadata": {},
   "source": [
    "Compare the \"Number of Grid Visited Per Time Step during Exploration\" and \"Exploration Time\" between \"complete\" and \"incomplete\" mode when \"intuition\" and \"heuristics\" are false."
   ]
  },
  {
   "cell_type": "code",
   "execution_count": 4,
   "metadata": {
    "collapsed": true
   },
   "outputs": [],
   "source": [
    "dataset_complete_means = summary_mean[(summary_mean['Mode'] == 'complete') & (summary_mean['Intuition'] == False) & (summary_mean['Heuristics'] == False)]\n",
    "dataset_incomplete_means = summary_mean[(summary_mean['Mode'] == 'incomplete') & (summary_mean['Intuition'] == False) & (summary_mean['Heuristics'] == False)]"
   ]
  },
  {
   "cell_type": "code",
   "execution_count": 5,
   "metadata": {
    "collapsed": true
   },
   "outputs": [],
   "source": [
    "dataset_complete_std = summary_std[(summary_std['Mode'] == 'complete') & (summary_std['Intuition'] == False) & (summary_std['Heuristics'] == False)]\n",
    "dataset_incomplete_std = summary_std[(summary_std['Mode'] == 'incomplete') & (summary_std['Intuition'] == False) & (summary_std['Heuristics'] == False)]"
   ]
  },
  {
   "cell_type": "code",
   "execution_count": 6,
   "metadata": {
    "collapsed": true
   },
   "outputs": [],
   "source": [
    "dataset_complete_nsquares_means = dataset_complete_means['Number of Grid Visited Per Time Step during Exploration'].tolist()\n",
    "dataset_incomplete_nsquares_means = dataset_incomplete_means['Number of Grid Visited Per Time Step during Exploration'].tolist()"
   ]
  },
  {
   "cell_type": "code",
   "execution_count": 7,
   "metadata": {
    "collapsed": true
   },
   "outputs": [],
   "source": [
    "dataset_complete_nsquares_std = dataset_complete_std['Number of Grid Visited Per Time Step during Exploration'].tolist()\n",
    "dataset_incomplete_nsquares_std = dataset_incomplete_std['Number of Grid Visited Per Time Step during Exploration'].tolist()"
   ]
  },
  {
   "cell_type": "code",
   "execution_count": 8,
   "metadata": {
    "collapsed": true
   },
   "outputs": [],
   "source": [
    "dataset_complete_exploration_means = dataset_complete_means['Exploration Time'].tolist()\n",
    "dataset_incomplete_exploration_means = dataset_incomplete_means['Exploration Time'].tolist()"
   ]
  },
  {
   "cell_type": "code",
   "execution_count": 9,
   "metadata": {
    "collapsed": true
   },
   "outputs": [],
   "source": [
    "dataset_complete_exploration_std = dataset_complete_std['Exploration Time'].tolist()\n",
    "dataset_incomplete_exploration_std = dataset_incomplete_std['Exploration Time'].tolist()"
   ]
  },
  {
   "cell_type": "code",
   "execution_count": 10,
   "metadata": {
    "collapsed": false
   },
   "outputs": [
    {
     "data": {
      "image/png": "[encoded data removed]",
      "text/plain": [
       "<matplotlib.figure.Figure at 0xa4aedd8>"
      ]
     },
     "metadata": {},
     "output_type": "display_data"
    }
   ],
   "source": [
    "dataset_1_means = dataset_complete_nsquares_means\n",
    "dataset_2_means = dataset_incomplete_nsquares_means\n",
    "dataset_1_std = dataset_complete_nsquares_std\n",
    "dataset_2_std = dataset_incomplete_nsquares_std\n",
    "\n",
    "N = len(dataset_1_means)\n",
    "ind = np.arange(N)  # the x locations for the groups\n",
    "width = 0.30       # the width of the bars\n",
    "alpha = 0.85\n",
    "\n",
    "fig, ax = plt.subplots(nrows = 1, ncols = 2, figsize = (10, 5))\n",
    "\n",
    "rects1 = ax[0].bar(ind, dataset_1_means, width, color='r', yerr = dataset_1_std, alpha = alpha, \n",
    "                capsize = 3, error_kw = {'elinewidth':1})\n",
    "rects2 = ax[0].bar(ind + width, dataset_2_means, width, color='g', yerr = dataset_2_std, alpha = alpha, \n",
    "                capsize = 3, error_kw = {'elinewidth':1})\n",
    "\n",
    "line_1 = ax[0].plot(np.linspace(-0.25, 2.5, 100), np.linspace(1.0, 1.0, 100), linestyle = '--', linewidth = 1, color = 'black', alpha = 1)\n",
    "\n",
    "ax[0].set_ylim([0,1.0])\n",
    "ax[0].set_xlim([-0.25,2.55])\n",
    "# add some text for labels, title and axes ticks\n",
    "ax[0].set_xlabel('Test Maze', fontsize=16,  labelpad = 5)\n",
    "ax[0].set_ylabel('Number of Squares Visited\\nPer Time Step', fontsize=16, labelpad = 5)\n",
    "ax[0].set_title('')\n",
    "ax[0].set_xticks(ind + width / 2)\n",
    "ax[0].set_xticklabels(('Maze 1', 'Maze 2', 'Maze 3'))\n",
    "\n",
    "ax[0].legend((rects1[0], rects2[0]), ('Complete', 'Incomplete'), loc = 'upper center', mode='expand', ncol=2, fontsize=15, bbox_to_anchor=(0., 1.02, 1., .102), borderaxespad=0.)\n",
    "\n",
    "ax[0].tick_params(labelsize=16)\n",
    "\n",
    "dataset_1_means = dataset_complete_exploration_means\n",
    "dataset_2_means = dataset_incomplete_exploration_means\n",
    "dataset_1_std = dataset_complete_exploration_std\n",
    "dataset_2_std = dataset_incomplete_exploration_std\n",
    "\n",
    "rects1 = ax[1].bar(ind, dataset_1_means, width, color='r', yerr = dataset_1_std, alpha = alpha, \n",
    "                capsize = 3, error_kw = {'elinewidth':1})\n",
    "rects2 = ax[1].bar(ind + width, dataset_2_means, width, color='g', yerr = dataset_2_std, alpha = alpha, \n",
    "                capsize = 3, error_kw = {'elinewidth':1})\n",
    "\n",
    "ax[1].set_ylim([0,2500])\n",
    "ax[1].set_xlim([-0.25,2.55])\n",
    "# add some text for labels, title and axes ticks\n",
    "ax[1].set_xlabel('Test Maze', fontsize=16,  labelpad = 5)\n",
    "ax[1].set_ylabel('Exploration Time', fontsize=16, labelpad = 5)\n",
    "ax[1].set_title('')\n",
    "ax[1].set_xticks(ind + width / 2)\n",
    "ax[1].set_xticklabels(('Maze 1', 'Maze 2', 'Maze 3'))\n",
    "\n",
    "ax[1].legend((rects1[0], rects2[0]), ('Complete', 'Incomplete'), loc = 'upper center', mode='expand', ncol=2, fontsize=15, bbox_to_anchor=(0., 1.02, 1., .102), borderaxespad=0.)\n",
    "\n",
    "ax[1].tick_params(labelsize=16)\n",
    "\n",
    "plt.tight_layout(w_pad=1, h_pad=0)\n",
    "plt.show()\n",
    "\n",
    "fig.savefig('complete_vs_incomplete.jpeg', format='jpeg', dpi=600, bbox_inches='tight')"
   ]
  },
  {
   "cell_type": "markdown",
   "metadata": {},
   "source": [
    "Compare the \"Number of Grid Visited Per Time Step during Exploration\" and \"Exploration Time\" between \"True\" and \"False\" of \"Heuristics\" mode when \"Mode\" is \"Incomplete\" and \"Intuition\" are false."
   ]
  },
  {
   "cell_type": "code",
   "execution_count": 11,
   "metadata": {
    "collapsed": true
   },
   "outputs": [],
   "source": [
    "dataset_heuristics_means = summary_mean[(summary_mean['Mode'] == 'complete') & (summary_mean['Intuition'] == False) & (summary_mean['Heuristics'] == True)]\n",
    "dataset_not_heuristics_means = summary_mean[(summary_mean['Mode'] == 'complete') & (summary_mean['Intuition'] == False) & (summary_mean['Heuristics'] == False)]"
   ]
  },
  {
   "cell_type": "code",
   "execution_count": 12,
   "metadata": {
    "collapsed": true
   },
   "outputs": [],
   "source": [
    "dataset_heuristics_std = summary_std[(summary_std['Mode'] == 'complete') & (summary_std['Intuition'] == False) & (summary_std['Heuristics'] == True)]\n",
    "dataset_not_heuristics_std = summary_std[(summary_std['Mode'] == 'complete') & (summary_std['Intuition'] == False) & (summary_std['Heuristics'] == False)]"
   ]
  },
  {
   "cell_type": "code",
   "execution_count": 13,
   "metadata": {
    "collapsed": true
   },
   "outputs": [],
   "source": [
    "dataset_heuristics_nsquares_means = dataset_heuristics_means['Number of Grid Visited Per Time Step during Exploration'].tolist()\n",
    "dataset_not_heuristics_nsquares_means = dataset_not_heuristics_means['Number of Grid Visited Per Time Step during Exploration'].tolist()"
   ]
  },
  {
   "cell_type": "code",
   "execution_count": 14,
   "metadata": {
    "collapsed": true
   },
   "outputs": [],
   "source": [
    "dataset_heuristics_nsquares_std = dataset_heuristics_std['Number of Grid Visited Per Time Step during Exploration'].tolist()\n",
    "dataset_not_heuristics_nsquares_std = dataset_not_heuristics_std['Number of Grid Visited Per Time Step during Exploration'].tolist()"
   ]
  },
  {
   "cell_type": "code",
   "execution_count": 15,
   "metadata": {
    "collapsed": true
   },
   "outputs": [],
   "source": [
    "dataset_heuristics_exploration_means = dataset_heuristics_means['Exploration Time'].tolist()\n",
    "dataset_not_heuristics_exploration_means = dataset_not_heuristics_means['Exploration Time'].tolist()"
   ]
  },
  {
   "cell_type": "code",
   "execution_count": 16,
   "metadata": {
    "collapsed": true
   },
   "outputs": [],
   "source": [
    "dataset_heuristics_exploration_std = dataset_heuristics_std['Exploration Time'].tolist()\n",
    "dataset_not_heuristics_exploration_std = dataset_not_heuristics_std['Exploration Time'].tolist()"
   ]
  },
  {
   "cell_type": "code",
   "execution_count": 17,
   "metadata": {
    "collapsed": false
   },
   "outputs": [
    {
     "data": {
      "image/png": "[encoded data removed]",
      "text/plain": [
       "<matplotlib.figure.Figure at 0xa82ac88>"
      ]
     },
     "metadata": {},
     "output_type": "display_data"
    }
   ],
   "source": [
    "dataset_1_means = dataset_not_heuristics_nsquares_means\n",
    "dataset_2_means = dataset_heuristics_nsquares_means\n",
    "dataset_1_std = dataset_not_heuristics_nsquares_std\n",
    "dataset_2_std = dataset_heuristics_nsquares_std\n",
    "\n",
    "N = len(dataset_1_means)\n",
    "ind = np.arange(N)  # the x locations for the groups\n",
    "width = 0.30       # the width of the bars\n",
    "alpha = 0.85\n",
    "\n",
    "fig, ax = plt.subplots(nrows = 1, ncols = 2, figsize = (10, 5))\n",
    "\n",
    "rects1 = ax[0].bar(ind, dataset_1_means, width, color='red', yerr = dataset_1_std, alpha = alpha, \n",
    "                capsize = 3, error_kw = {'elinewidth':1})\n",
    "rects2 = ax[0].bar(ind + width, dataset_2_means, width, color='blue', yerr = dataset_2_std, alpha = alpha, \n",
    "                capsize = 3, error_kw = {'elinewidth':1})\n",
    "\n",
    "line_1 = ax[0].plot(np.linspace(-0.25, 2.5, 100), np.linspace(1.0, 1.0, 100), linestyle = '--', linewidth = 1, color = 'black', alpha = 1)\n",
    "\n",
    "ax[0].set_ylim([0,1.0])\n",
    "ax[0].set_xlim([-0.25,2.55])\n",
    "# add some text for labels, title and axes ticks\n",
    "ax[0].set_xlabel('Test Maze', fontsize=16,  labelpad = 5)\n",
    "ax[0].set_ylabel('Number of Squares Visited\\nPer Time Step', fontsize=16, labelpad = 5)\n",
    "ax[0].set_title('')\n",
    "ax[0].set_xticks(ind + width / 2)\n",
    "ax[0].set_xticklabels(('Maze 1', 'Maze 2', 'Maze 3'))\n",
    "\n",
    "ax[0].legend((rects1[0], rects2[0]), ('No Heuristics', 'Heuristics'), loc = 'upper center', mode='expand', ncol=2, fontsize=15, bbox_to_anchor=(0., 1.02, 1., .102), borderaxespad=0.)\n",
    "\n",
    "ax[0].tick_params(labelsize=16)\n",
    "\n",
    "dataset_1_means = dataset_not_heuristics_exploration_means\n",
    "dataset_2_means = dataset_heuristics_exploration_means\n",
    "dataset_1_std = dataset_not_heuristics_exploration_std\n",
    "dataset_2_std = dataset_heuristics_exploration_std\n",
    "\n",
    "rects1 = ax[1].bar(ind, dataset_1_means, width, color='red', yerr = dataset_1_std, alpha = alpha, \n",
    "                capsize = 3, error_kw = {'elinewidth':1})\n",
    "rects2 = ax[1].bar(ind + width, dataset_2_means, width, color='blue', yerr = dataset_2_std, alpha = alpha, \n",
    "                capsize = 3, error_kw = {'elinewidth':1})\n",
    "\n",
    "ax[1].set_ylim([0,2500])\n",
    "ax[1].set_xlim([-0.25,2.55])\n",
    "# add some text for labels, title and axes ticks\n",
    "ax[1].set_xlabel('Test Maze', fontsize=16,  labelpad = 5)\n",
    "ax[1].set_ylabel('Exploration Time', fontsize=16, labelpad = 5)\n",
    "ax[1].set_title('')\n",
    "ax[1].set_xticks(ind + width / 2)\n",
    "ax[1].set_xticklabels(('Maze 1', 'Maze 2', 'Maze 3'))\n",
    "\n",
    "ax[1].legend((rects1[0], rects2[0]), ('No Heuristics', 'Heuristics'), loc = 'upper center', mode='expand', ncol=2, fontsize=15, bbox_to_anchor=(0., 1.02, 1., .102), borderaxespad=0.)\n",
    "\n",
    "ax[1].tick_params(labelsize=16)\n",
    "\n",
    "plt.tight_layout(w_pad=1, h_pad=0)\n",
    "plt.show()\n",
    "\n",
    "fig.savefig('no_heuristics_vs_heuristics.jpeg', format='jpeg', dpi=600, bbox_inches='tight')"
   ]
  },
  {
   "cell_type": "markdown",
   "metadata": {},
   "source": [
    "Compare the \"Number of Grid Visited Per Time Step during Exploration\" and \"Exploration Time\" between \"True\" and \"False\" of \"Intuition\" mode when \"Mode\" is \"Incomplete\" and \"Heuristics\" are false."
   ]
  },
  {
   "cell_type": "code",
   "execution_count": 18,
   "metadata": {
    "collapsed": true
   },
   "outputs": [],
   "source": [
    "dataset_intuition_means = summary_mean[(summary_mean['Mode'] == 'complete') & (summary_mean['Intuition'] == True) & (summary_mean['Heuristics'] == False)]\n",
    "dataset_not_intuition_means = summary_mean[(summary_mean['Mode'] == 'complete') & (summary_mean['Intuition'] == False) & (summary_mean['Heuristics'] == False)]"
   ]
  },
  {
   "cell_type": "code",
   "execution_count": 19,
   "metadata": {
    "collapsed": true
   },
   "outputs": [],
   "source": [
    "dataset_intuition_std = summary_std[(summary_std['Mode'] == 'complete') & (summary_std['Intuition'] == True) & (summary_std['Heuristics'] == False)]\n",
    "dataset_not_intuition_std = summary_std[(summary_std['Mode'] == 'complete') & (summary_std['Intuition'] == False) & (summary_std['Heuristics'] == False)]"
   ]
  },
  {
   "cell_type": "code",
   "execution_count": 20,
   "metadata": {
    "collapsed": true
   },
   "outputs": [],
   "source": [
    "dataset_intuition_nsquares_means = dataset_intuition_means['Number of Grid Visited Per Time Step during Exploration'].tolist()\n",
    "dataset_not_intuition_nsquares_means = dataset_not_intuition_means['Number of Grid Visited Per Time Step during Exploration'].tolist()"
   ]
  },
  {
   "cell_type": "code",
   "execution_count": 21,
   "metadata": {
    "collapsed": true
   },
   "outputs": [],
   "source": [
    "dataset_intuition_nsquares_std = dataset_intuition_std['Number of Grid Visited Per Time Step during Exploration'].tolist()\n",
    "dataset_not_intuition_nsquares_std = dataset_not_intuition_std['Number of Grid Visited Per Time Step during Exploration'].tolist()"
   ]
  },
  {
   "cell_type": "code",
   "execution_count": 22,
   "metadata": {
    "collapsed": true
   },
   "outputs": [],
   "source": [
    "dataset_intuition_exploration_means = dataset_intuition_means['Exploration Time'].tolist()\n",
    "dataset_not_intuition_exploration_means = dataset_not_intuition_means['Exploration Time'].tolist()"
   ]
  },
  {
   "cell_type": "code",
   "execution_count": 23,
   "metadata": {
    "collapsed": true
   },
   "outputs": [],
   "source": [
    "dataset_intuition_exploration_std = dataset_intuition_std['Exploration Time'].tolist()\n",
    "dataset_not_intuition_exploration_std = dataset_not_intuition_std['Exploration Time'].tolist()"
   ]
  },
  {
   "cell_type": "code",
   "execution_count": 24,
   "metadata": {
    "collapsed": false
   },
   "outputs": [
    {
     "data": {
      "image/png": "[encoded data removed]",
      "text/plain": [
       "<matplotlib.figure.Figure at 0xa6003c8>"
      ]
     },
     "metadata": {},
     "output_type": "display_data"
    }
   ],
   "source": [
    "dataset_1_means = dataset_not_intuition_nsquares_means\n",
    "dataset_2_means = dataset_intuition_nsquares_means\n",
    "dataset_1_std = dataset_not_intuition_nsquares_std\n",
    "dataset_2_std = dataset_intuition_nsquares_std\n",
    "\n",
    "N = len(dataset_1_means)\n",
    "ind = np.arange(N)  # the x locations for the groups\n",
    "width = 0.30       # the width of the bars\n",
    "alpha = 0.85\n",
    "\n",
    "fig, ax = plt.subplots(nrows = 1, ncols = 2, figsize = (10, 5))\n",
    "\n",
    "rects1 = ax[0].bar(ind, dataset_1_means, width, color='red', yerr = dataset_1_std, alpha = alpha, \n",
    "                capsize = 3, error_kw = {'elinewidth':1})\n",
    "rects2 = ax[0].bar(ind + width, dataset_2_means, width, color='deepskyblue', yerr = dataset_2_std, alpha = alpha, \n",
    "                capsize = 3, error_kw = {'elinewidth':1})\n",
    "\n",
    "line_1 = ax[0].plot(np.linspace(-0.25, 2.5, 100), np.linspace(1.0, 1.0, 100), linestyle = '--', linewidth = 1, color = 'black', alpha = 1)\n",
    "\n",
    "ax[0].set_ylim([0,1.0])\n",
    "ax[0].set_xlim([-0.25,2.55])\n",
    "# add some text for labels, title and axes ticks\n",
    "ax[0].set_xlabel('Test Maze', fontsize=16,  labelpad = 5)\n",
    "ax[0].set_ylabel('Number of Squares Visited\\nPer Time Step', fontsize=16, labelpad = 5)\n",
    "#ax[0].set_ylabel('NSVPT', fontsize=16, labelpad = 5)\n",
    "ax[0].set_title('')\n",
    "ax[0].set_xticks(ind + width / 2)\n",
    "ax[0].set_xticklabels(('Maze 1', 'Maze 2', 'Maze 3'))\n",
    "\n",
    "ax[0].legend((rects1[0], rects2[0]), ('No Intuition', 'Intuition'), loc = 'upper center', mode='expand', ncol=2, fontsize=15, bbox_to_anchor=(0., 1.02, 1., .102), borderaxespad=0.)\n",
    "\n",
    "ax[0].tick_params(labelsize=16)\n",
    "\n",
    "dataset_1_means = dataset_not_intuition_exploration_means\n",
    "dataset_2_means = dataset_intuition_exploration_means\n",
    "dataset_1_std = dataset_not_intuition_exploration_std\n",
    "dataset_2_std = dataset_intuition_exploration_std\n",
    "\n",
    "rects1 = ax[1].bar(ind, dataset_1_means, width, color='red', yerr = dataset_1_std, alpha = alpha, \n",
    "                capsize = 3, error_kw = {'elinewidth':1})\n",
    "rects2 = ax[1].bar(ind + width, dataset_2_means, width, color='deepskyblue', yerr = dataset_2_std, alpha = alpha, \n",
    "                capsize = 3, error_kw = {'elinewidth':1})\n",
    "\n",
    "ax[1].set_ylim([0,2500])\n",
    "ax[1].set_xlim([-0.25,2.55])\n",
    "# add some text for labels, title and axes ticks\n",
    "ax[1].set_xlabel('Test Maze', fontsize=16,  labelpad = 5)\n",
    "ax[1].set_ylabel('Exploration Time', fontsize=16, labelpad = 5)\n",
    "ax[1].set_title('')\n",
    "ax[1].set_xticks(ind + width / 2)\n",
    "ax[1].set_xticklabels(('Maze 1', 'Maze 2', 'Maze 3'))\n",
    "\n",
    "ax[1].legend((rects1[0], rects2[0]), ('No Intuition', 'Intuition'), loc = 'upper center', mode='expand', ncol=2, fontsize=15, bbox_to_anchor=(0., 1.02, 1., .102), borderaxespad=0.)\n",
    "\n",
    "ax[1].tick_params(labelsize=16)\n",
    "\n",
    "plt.tight_layout(w_pad=1, h_pad=0)\n",
    "plt.show()\n",
    "\n",
    "fig.savefig('no_intuition_vs_intuition.jpeg', format='jpeg', dpi=600, bbox_inches='tight')"
   ]
  },
  {
   "cell_type": "markdown",
   "metadata": {},
   "source": [
    "Compare the \"Score\" and \"Computation Time\" between (\"Complete\", \"Heuristics\", \"Intuition\") and (\"Incomplete\", \"No Heuristics\", \"No Intuition\")."
   ]
  },
  {
   "cell_type": "code",
   "execution_count": 25,
   "metadata": {
    "collapsed": true
   },
   "outputs": [],
   "source": [
    "dataset_worst_means = summary_mean[(summary_mean['Mode'] == 'complete') & (summary_mean['Intuition'] == False) & (summary_mean['Heuristics'] == False)]\n",
    "dataset_best_means = summary_mean[(summary_mean['Mode'] == 'incomplete') & (summary_mean['Intuition'] == True) & (summary_mean['Heuristics'] == True)]"
   ]
  },
  {
   "cell_type": "code",
   "execution_count": 26,
   "metadata": {
    "collapsed": true
   },
   "outputs": [],
   "source": [
    "dataset_worst_std = summary_std[(summary_std['Mode'] == 'complete') & (summary_std['Intuition'] == False) & (summary_std['Heuristics'] == False)]\n",
    "dataset_best_std = summary_std[(summary_std['Mode'] == 'incomplete') & (summary_std['Intuition'] == True) & (summary_std['Heuristics'] == True)]"
   ]
  },
  {
   "cell_type": "code",
   "execution_count": 27,
   "metadata": {
    "collapsed": true
   },
   "outputs": [],
   "source": [
    "dataset_best_score_means = dataset_best_means['Score'].tolist()\n",
    "dataset_worst_score_means = dataset_worst_means['Score'].tolist()"
   ]
  },
  {
   "cell_type": "code",
   "execution_count": 28,
   "metadata": {
    "collapsed": true
   },
   "outputs": [],
   "source": [
    "dataset_best_score_std = dataset_best_std['Score'].tolist()\n",
    "dataset_worst_score_std = dataset_worst_std['Score'].tolist()"
   ]
  },
  {
   "cell_type": "code",
   "execution_count": 29,
   "metadata": {
    "collapsed": true
   },
   "outputs": [],
   "source": [
    "dataset_best_computation_means = dataset_best_means['Computation Time'].tolist()\n",
    "dataset_worst_computation_means = dataset_worst_means['Computation Time'].tolist()"
   ]
  },
  {
   "cell_type": "code",
   "execution_count": 30,
   "metadata": {
    "collapsed": true
   },
   "outputs": [],
   "source": [
    "dataset_best_computation_std = dataset_best_std['Computation Time'].tolist()\n",
    "dataset_worst_computation_std = dataset_worst_std['Computation Time'].tolist()"
   ]
  },
  {
   "cell_type": "code",
   "execution_count": 31,
   "metadata": {
    "collapsed": true
   },
   "outputs": [],
   "source": [
    "dataset_best_nsquares_means = dataset_best_means['Number of Grid Visited Per Time Step during Exploration'].tolist()\n",
    "dataset_worst_nsquares_means = dataset_worst_means['Number of Grid Visited Per Time Step during Exploration'].tolist()"
   ]
  },
  {
   "cell_type": "code",
   "execution_count": 32,
   "metadata": {
    "collapsed": true
   },
   "outputs": [],
   "source": [
    "dataset_best_nsquares_std = dataset_best_std['Number of Grid Visited Per Time Step during Exploration'].tolist()\n",
    "dataset_worst_nsquares_std = dataset_worst_std['Number of Grid Visited Per Time Step during Exploration'].tolist()"
   ]
  },
  {
   "cell_type": "code",
   "execution_count": 33,
   "metadata": {
    "collapsed": true
   },
   "outputs": [],
   "source": [
    "dataset_best_exploration_means = dataset_best_means['Exploration Time'].tolist()\n",
    "dataset_worst_exploration_means = dataset_worst_means['Exploration Time'].tolist()"
   ]
  },
  {
   "cell_type": "code",
   "execution_count": 34,
   "metadata": {
    "collapsed": true
   },
   "outputs": [],
   "source": [
    "dataset_best_exploration_std = dataset_best_std['Exploration Time'].tolist()\n",
    "dataset_worst_exploration_std = dataset_worst_std['Exploration Time'].tolist()"
   ]
  },
  {
   "cell_type": "code",
   "execution_count": 35,
   "metadata": {
    "collapsed": false
   },
   "outputs": [
    {
     "data": {
      "image/png": "[encoded data removed]",
      "text/plain": [
       "<matplotlib.figure.Figure at 0xb254320>"
      ]
     },
     "metadata": {},
     "output_type": "display_data"
    }
   ],
   "source": [
    "dataset_1_means = dataset_worst_score_means\n",
    "dataset_2_means = dataset_best_score_means\n",
    "dataset_1_std = dataset_worst_score_std\n",
    "dataset_2_std = dataset_best_score_std\n",
    "\n",
    "N = len(dataset_1_means)\n",
    "ind = np.arange(N)  # the x locations for the groups\n",
    "width = 0.30       # the width of the bars\n",
    "alpha = 0.85\n",
    "\n",
    "fig, ax = plt.subplots(nrows = 1, ncols = 2, figsize = (10, 5))\n",
    "\n",
    "rects1 = ax[0].bar(ind, dataset_1_means, width, color='red', yerr = dataset_1_std, alpha = alpha, \n",
    "                capsize = 3, error_kw = {'elinewidth':1})\n",
    "rects2 = ax[0].bar(ind + width, dataset_2_means, width, color='orange', yerr = dataset_2_std, alpha = alpha, \n",
    "                capsize = 3, error_kw = {'elinewidth':1})\n",
    "\n",
    "ax[0].set_ylim([0,40])\n",
    "ax[0].set_xlim([-0.25,2.55])\n",
    "# add some text for labels, title and axes ticks\n",
    "ax[0].set_xlabel('Test Maze', fontsize=16,  labelpad = 5)\n",
    "ax[0].set_ylabel('Score', fontsize=16, labelpad = 5)\n",
    "ax[0].set_title('')\n",
    "ax[0].set_xticks(ind + width / 2)\n",
    "ax[0].set_xticklabels(('Maze 1', 'Maze 2', 'Maze 3'))\n",
    "\n",
    "ax[0].legend((rects1[0], rects2[0]), ('Complete\\nNo Intuition\\nNo Heuristics', 'Incomplete\\nIntuition\\nHeuristics'), loc = 'upper center', mode='expand', ncol=2, fontsize=15, bbox_to_anchor=(0., 1.14, 1., .102), borderaxespad=0.)\n",
    "\n",
    "ax[0].tick_params(labelsize=16)\n",
    "\n",
    "dataset_1_means = dataset_worst_computation_means\n",
    "dataset_2_means = dataset_best_computation_means\n",
    "dataset_1_std = dataset_worst_computation_std\n",
    "dataset_2_std = dataset_best_computation_std\n",
    "\n",
    "rects1 = ax[1].bar(ind, dataset_1_means, width, color='red', yerr = dataset_1_std, alpha = alpha, \n",
    "                capsize = 3, error_kw = {'elinewidth':1})\n",
    "rects2 = ax[1].bar(ind + width, dataset_2_means, width, color='orange', yerr = dataset_2_std, alpha = alpha, \n",
    "                capsize = 3, error_kw = {'elinewidth':1})\n",
    "\n",
    "ax[1].set_ylim([0,2500])\n",
    "ax[1].set_xlim([-0.25,2.55])\n",
    "# add some text for labels, title and axes ticks\n",
    "ax[1].set_xlabel('Test Maze', fontsize=16,  labelpad = 5)\n",
    "ax[1].set_ylabel('Computation Time', fontsize=16, labelpad = 5)\n",
    "ax[1].set_title('')\n",
    "ax[1].set_xticks(ind + width / 2)\n",
    "ax[1].set_xticklabels(('Maze 1', 'Maze 2', 'Maze 3'))\n",
    "\n",
    "ax[1].legend((rects1[0], rects2[0]), ('Complete\\nNo Intuition\\nNo Heuristics', 'Incomplete\\nIntuition\\nHeuristics'), loc = 'upper center', mode='expand', ncol=2, fontsize=15, bbox_to_anchor=(0., 1.14, 1., .102), borderaxespad=0.)\n",
    "ax[1].tick_params(labelsize=16)\n",
    "\n",
    "plt.tight_layout(w_pad=1, h_pad=0)\n",
    "plt.show()\n",
    "\n",
    "fig.savefig('score_worst_vs_best.jpeg', format='jpeg', dpi=600, bbox_inches='tight')"
   ]
  },
  {
   "cell_type": "code",
   "execution_count": 36,
   "metadata": {
    "collapsed": false
   },
   "outputs": [
    {
     "data": {
      "image/png": "[encoded data removed]",
      "text/plain": [
       "<matplotlib.figure.Figure at 0xc5292e8>"
      ]
     },
     "metadata": {},
     "output_type": "display_data"
    }
   ],
   "source": [
    "dataset_1_means = dataset_worst_nsquares_means\n",
    "dataset_2_means = dataset_best_nsquares_means\n",
    "dataset_1_std = dataset_worst_nsquares_std\n",
    "dataset_2_std = dataset_best_nsquares_std\n",
    "\n",
    "N = len(dataset_1_means)\n",
    "ind = np.arange(N)  # the x locations for the groups\n",
    "width = 0.30       # the width of the bars\n",
    "alpha = 0.85\n",
    "\n",
    "fig, ax = plt.subplots(nrows = 1, ncols = 2, figsize = (10, 5))\n",
    "\n",
    "rects1 = ax[0].bar(ind, dataset_1_means, width, color='red', yerr = dataset_1_std, alpha = alpha, \n",
    "                capsize = 3, error_kw = {'elinewidth':1})\n",
    "rects2 = ax[0].bar(ind + width, dataset_2_means, width, color='orange', yerr = dataset_2_std, alpha = alpha, \n",
    "                capsize = 3, error_kw = {'elinewidth':1})\n",
    "\n",
    "ax[0].set_ylim([0,1.0])\n",
    "ax[0].set_xlim([-0.25,2.55])\n",
    "# add some text for labels, title and axes ticks\n",
    "ax[0].set_xlabel('Test Maze', fontsize=16,  labelpad = 5)\n",
    "ax[0].set_ylabel('Number of Squares Visited\\nPer Time Step', fontsize=16, labelpad = 5)\n",
    "ax[0].set_title('')\n",
    "ax[0].set_xticks(ind + width / 2)\n",
    "ax[0].set_xticklabels(('Maze 1', 'Maze 2', 'Maze 3'))\n",
    "\n",
    "line_1 = ax[0].plot(np.linspace(-0.25, 2.5, 100), np.linspace(1.0, 1.0, 100), linestyle = '--', linewidth = 1, color = 'black', alpha = 1)\n",
    "\n",
    "ax[0].legend((rects1[0], rects2[0]), ('Complete\\nNo Intuition\\nNo Heuristics', 'Incomplete\\nIntuition\\nHeuristics'), loc = 'upper center', mode='expand', ncol=2, fontsize=15, bbox_to_anchor=(0., 1.14, 1., .102), borderaxespad=0.)\n",
    "\n",
    "ax[0].tick_params(labelsize=16)\n",
    "\n",
    "dataset_1_means = dataset_worst_exploration_means\n",
    "dataset_2_means = dataset_best_exploration_means\n",
    "dataset_1_std = dataset_worst_exploration_std\n",
    "dataset_2_std = dataset_best_exploration_std\n",
    "\n",
    "rects1 = ax[1].bar(ind, dataset_1_means, width, color='red', yerr = dataset_1_std, alpha = alpha, \n",
    "                capsize = 3, error_kw = {'elinewidth':1})\n",
    "rects2 = ax[1].bar(ind + width, dataset_2_means, width, color='orange', yerr = dataset_2_std, alpha = alpha, \n",
    "                capsize = 3, error_kw = {'elinewidth':1})\n",
    "\n",
    "ax[1].set_ylim([0,2500])\n",
    "ax[1].set_xlim([-0.25,2.55])\n",
    "# add some text for labels, title and axes ticks\n",
    "ax[1].set_xlabel('Test Maze', fontsize=16,  labelpad = 5)\n",
    "ax[1].set_ylabel('Exploration Time', fontsize=16, labelpad = 5)\n",
    "ax[1].set_title('')\n",
    "ax[1].set_xticks(ind + width / 2)\n",
    "ax[1].set_xticklabels(('Maze 1', 'Maze 2', 'Maze 3'))\n",
    "\n",
    "ax[1].legend((rects1[0], rects2[0]), ('Complete\\nNo Intuition\\nNo Heuristics', 'Incomplete\\nIntuition\\nHeuristics'), loc = 'upper center', mode='expand', ncol=2, fontsize=15, bbox_to_anchor=(0., 1.14, 1., .102), borderaxespad=0.)\n",
    "\n",
    "ax[1].tick_params(labelsize=16)\n",
    "\n",
    "plt.tight_layout(w_pad=1, h_pad=0)\n",
    "plt.show()\n",
    "\n",
    "fig.savefig('nsquare_worst_vs_best.jpeg', format='jpeg', dpi=600, bbox_inches='tight')"
   ]
  },
  {
   "cell_type": "code",
   "execution_count": null,
   "metadata": {
    "collapsed": true
   },
   "outputs": [],
   "source": []
  },
  {
   "cell_type": "code",
   "execution_count": null,
   "metadata": {
    "collapsed": true
   },
   "outputs": [],
   "source": []
  }
 ],
 "metadata": {
  "anaconda-cloud": {},
  "kernelspec": {
   "display_name": "Python [default]",
   "language": "python",
   "name": "python2"
  },
  "language_info": {
   "codemirror_mode": {
    "name": "ipython",
    "version": 2
   },
   "file_extension": ".py",
   "mimetype": "text/x-python",
   "name": "python",
   "nbconvert_exporter": "python",
   "pygments_lexer": "ipython2",
   "version": "2.7.12"
  }
 },
 "nbformat": 4,
 "nbformat_minor": 1
}
