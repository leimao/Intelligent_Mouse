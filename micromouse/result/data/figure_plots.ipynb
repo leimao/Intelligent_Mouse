{
 "cells": [
  {
   "cell_type": "code",
   "execution_count": 259,
   "metadata": {
    "collapsed": false
   },
   "outputs": [
    {
     "data": {
      "application/javascript": [
       "IPython.notebook.set_autosave_interval(0)"
      ]
     },
     "metadata": {},
     "output_type": "display_data"
    },
    {
     "name": "stdout",
     "output_type": "stream",
     "text": [
      "Autosave disabled\n"
     ]
    }
   ],
   "source": [
    "import pandas as pd\n",
    "import numpy as np\n",
    "import matplotlib.pyplot as plt\n",
    "%matplotlib inline\n",
    "%autosave 0"
   ]
  },
  {
   "cell_type": "code",
   "execution_count": 260,
   "metadata": {
    "collapsed": true
   },
   "outputs": [],
   "source": [
    "summary_mean = pd.read_csv('summary_mean.csv', sep = ',')\n",
    "summary_std = pd.read_csv('summary_std.csv', sep = ',')"
   ]
  },
  {
   "cell_type": "code",
   "execution_count": 261,
   "metadata": {
    "collapsed": false
   },
   "outputs": [
    {
     "data": {
      "text/html": [
       "<div>\n",
       "<table border=\"1\" class=\"dataframe\">\n",
       "  <thead>\n",
       "    <tr style=\"text-align: right;\">\n",
       "      <th></th>\n",
       "      <th>Maze</th>\n",
       "      <th>Mode</th>\n",
       "      <th>Intuition</th>\n",
       "      <th>Heuristics</th>\n",
       "      <th>Time Steps 1</th>\n",
       "      <th>Path Length 1</th>\n",
       "      <th>Time Steps 2</th>\n",
       "      <th>Path Length 2</th>\n",
       "      <th>Time Steps 3</th>\n",
       "      <th>Path Length 3</th>\n",
       "      <th>Coverage</th>\n",
       "      <th>Score</th>\n",
       "      <th>Exploration Time</th>\n",
       "      <th>Computation Time</th>\n",
       "      <th>Maze Size</th>\n",
       "      <th>Number of Grid Visited Per Time Step during Exploration</th>\n",
       "      <th>Number of Grid Visited Per Path Length during Exploration</th>\n",
       "    </tr>\n",
       "  </thead>\n",
       "  <tbody>\n",
       "    <tr>\n",
       "      <th>0</th>\n",
       "      <td>1</td>\n",
       "      <td>complete</td>\n",
       "      <td>False</td>\n",
       "      <td>False</td>\n",
       "      <td>186.9</td>\n",
       "      <td>222.2</td>\n",
       "      <td>6.9</td>\n",
       "      <td>13.6</td>\n",
       "      <td>17.0</td>\n",
       "      <td>32.0</td>\n",
       "      <td>1.00</td>\n",
       "      <td>24.03</td>\n",
       "      <td>411.58</td>\n",
       "      <td>412.02</td>\n",
       "      <td>144.0</td>\n",
       "      <td>0.77</td>\n",
       "      <td>0.65</td>\n",
       "    </tr>\n",
       "    <tr>\n",
       "      <th>1</th>\n",
       "      <td>1</td>\n",
       "      <td>complete</td>\n",
       "      <td>False</td>\n",
       "      <td>True</td>\n",
       "      <td>185.6</td>\n",
       "      <td>217.3</td>\n",
       "      <td>8.3</td>\n",
       "      <td>15.3</td>\n",
       "      <td>17.0</td>\n",
       "      <td>32.0</td>\n",
       "      <td>1.00</td>\n",
       "      <td>24.03</td>\n",
       "      <td>96.16</td>\n",
       "      <td>96.54</td>\n",
       "      <td>144.0</td>\n",
       "      <td>0.78</td>\n",
       "      <td>0.66</td>\n",
       "    </tr>\n",
       "    <tr>\n",
       "      <th>2</th>\n",
       "      <td>1</td>\n",
       "      <td>complete</td>\n",
       "      <td>True</td>\n",
       "      <td>False</td>\n",
       "      <td>188.3</td>\n",
       "      <td>222.1</td>\n",
       "      <td>9.8</td>\n",
       "      <td>17.7</td>\n",
       "      <td>17.0</td>\n",
       "      <td>32.0</td>\n",
       "      <td>1.00</td>\n",
       "      <td>24.17</td>\n",
       "      <td>102.46</td>\n",
       "      <td>102.86</td>\n",
       "      <td>144.0</td>\n",
       "      <td>0.77</td>\n",
       "      <td>0.65</td>\n",
       "    </tr>\n",
       "    <tr>\n",
       "      <th>3</th>\n",
       "      <td>1</td>\n",
       "      <td>complete</td>\n",
       "      <td>True</td>\n",
       "      <td>True</td>\n",
       "      <td>189.3</td>\n",
       "      <td>220.9</td>\n",
       "      <td>9.0</td>\n",
       "      <td>17.7</td>\n",
       "      <td>17.0</td>\n",
       "      <td>32.0</td>\n",
       "      <td>1.00</td>\n",
       "      <td>24.18</td>\n",
       "      <td>45.33</td>\n",
       "      <td>45.73</td>\n",
       "      <td>144.0</td>\n",
       "      <td>0.76</td>\n",
       "      <td>0.65</td>\n",
       "    </tr>\n",
       "    <tr>\n",
       "      <th>4</th>\n",
       "      <td>1</td>\n",
       "      <td>incomplete</td>\n",
       "      <td>False</td>\n",
       "      <td>False</td>\n",
       "      <td>107.5</td>\n",
       "      <td>122.6</td>\n",
       "      <td>18.2</td>\n",
       "      <td>31.6</td>\n",
       "      <td>18.2</td>\n",
       "      <td>32.4</td>\n",
       "      <td>0.65</td>\n",
       "      <td>23.00</td>\n",
       "      <td>211.81</td>\n",
       "      <td>212.18</td>\n",
       "      <td>144.0</td>\n",
       "      <td>0.89</td>\n",
       "      <td>0.80</td>\n",
       "    </tr>\n",
       "  </tbody>\n",
       "</table>\n",
       "</div>"
      ],
      "text/plain": [
       "   Maze        Mode Intuition Heuristics  Time Steps 1  Path Length 1  \\\n",
       "0     1    complete     False      False         186.9          222.2   \n",
       "1     1    complete     False       True         185.6          217.3   \n",
       "2     1    complete      True      False         188.3          222.1   \n",
       "3     1    complete      True       True         189.3          220.9   \n",
       "4     1  incomplete     False      False         107.5          122.6   \n",
       "\n",
       "   Time Steps 2  Path Length 2  Time Steps 3  Path Length 3  Coverage  Score  \\\n",
       "0           6.9           13.6          17.0           32.0      1.00  24.03   \n",
       "1           8.3           15.3          17.0           32.0      1.00  24.03   \n",
       "2           9.8           17.7          17.0           32.0      1.00  24.17   \n",
       "3           9.0           17.7          17.0           32.0      1.00  24.18   \n",
       "4          18.2           31.6          18.2           32.4      0.65  23.00   \n",
       "\n",
       "   Exploration Time  Computation Time  Maze Size  \\\n",
       "0            411.58            412.02      144.0   \n",
       "1             96.16             96.54      144.0   \n",
       "2            102.46            102.86      144.0   \n",
       "3             45.33             45.73      144.0   \n",
       "4            211.81            212.18      144.0   \n",
       "\n",
       "   Number of Grid Visited Per Time Step during Exploration  \\\n",
       "0                                               0.77         \n",
       "1                                               0.78         \n",
       "2                                               0.77         \n",
       "3                                               0.76         \n",
       "4                                               0.89         \n",
       "\n",
       "   Number of Grid Visited Per Path Length during Exploration  \n",
       "0                                               0.65          \n",
       "1                                               0.66          \n",
       "2                                               0.65          \n",
       "3                                               0.65          \n",
       "4                                               0.80          "
      ]
     },
     "execution_count": 261,
     "metadata": {},
     "output_type": "execute_result"
    }
   ],
   "source": [
    "summary_mean.head()"
   ]
  },
  {
   "cell_type": "markdown",
   "metadata": {},
   "source": [
    "Compare the \"Number of Grid Visited Per Time Step during Exploration\" and \"Exploration Time\" between \"complete\" and \"incomplete\" mode when \"intuition\" and \"heuristics\" are false."
   ]
  },
  {
   "cell_type": "code",
   "execution_count": 262,
   "metadata": {
    "collapsed": true
   },
   "outputs": [],
   "source": [
    "dataset_complete_means = summary_mean[(summary_mean['Mode'] == 'complete') & (summary_mean['Intuition'] == False) & (summary_mean['Heuristics'] == False)]\n",
    "dataset_incomplete_means = summary_mean[(summary_mean['Mode'] == 'incomplete') & (summary_mean['Intuition'] == False) & (summary_mean['Heuristics'] == False)]"
   ]
  },
  {
   "cell_type": "code",
   "execution_count": 263,
   "metadata": {
    "collapsed": true
   },
   "outputs": [],
   "source": [
    "dataset_complete_std = summary_std[(summary_std['Mode'] == 'complete') & (summary_std['Intuition'] == False) & (summary_std['Heuristics'] == False)]\n",
    "dataset_incomplete_std = summary_std[(summary_std['Mode'] == 'incomplete') & (summary_std['Intuition'] == False) & (summary_std['Heuristics'] == False)]"
   ]
  },
  {
   "cell_type": "code",
   "execution_count": 264,
   "metadata": {
    "collapsed": true
   },
   "outputs": [],
   "source": [
    "dataset_complete_nsquares_means = dataset_complete_means['Number of Grid Visited Per Time Step during Exploration'].tolist()\n",
    "dataset_incomplete_nsquares_means = dataset_incomplete_means['Number of Grid Visited Per Time Step during Exploration'].tolist()"
   ]
  },
  {
   "cell_type": "code",
   "execution_count": 265,
   "metadata": {
    "collapsed": true
   },
   "outputs": [],
   "source": [
    "dataset_complete_nsquares_std = dataset_complete_std['Number of Grid Visited Per Time Step during Exploration'].tolist()\n",
    "dataset_incomplete_nsquares_std = dataset_incomplete_std['Number of Grid Visited Per Time Step during Exploration'].tolist()"
   ]
  },
  {
   "cell_type": "code",
   "execution_count": 266,
   "metadata": {
    "collapsed": true
   },
   "outputs": [],
   "source": [
    "dataset_complete_exploration_means = dataset_complete_means['Exploration Time'].tolist()\n",
    "dataset_incomplete_exploration_means = dataset_incomplete_means['Exploration Time'].tolist()"
   ]
  },
  {
   "cell_type": "code",
   "execution_count": 267,
   "metadata": {
    "collapsed": true
   },
   "outputs": [],
   "source": [
    "dataset_complete_exploration_std = dataset_complete_std['Exploration Time'].tolist()\n",
    "dataset_incomplete_exploration_std = dataset_incomplete_std['Exploration Time'].tolist()"
   ]
  },
  {
   "cell_type": "code",
   "execution_count": 268,
   "metadata": {
    "collapsed": false
   },
   "outputs": [
    {
     "data": {
      "image/png": "[encoded data removed]",
      "text/plain": [
       "<matplotlib.figure.Figure at 0x1626de80>"
      ]
     },
     "metadata": {},
     "output_type": "display_data"
    }
   ],
   "source": [
    "dataset_1_means = dataset_complete_nsquares_means\n",
    "dataset_2_means = dataset_incomplete_nsquares_means\n",
    "dataset_1_std = dataset_complete_nsquares_std\n",
    "dataset_2_std = dataset_incomplete_nsquares_std\n",
    "\n",
    "N = len(dataset_1_means)\n",
    "ind = np.arange(N)  # the x locations for the groups\n",
    "width = 0.30       # the width of the bars\n",
    "alpha = 0.85\n",
    "\n",
    "fig, ax = plt.subplots(nrows = 1, ncols = 2, figsize = (10, 5))\n",
    "\n",
    "rects1 = ax[0].bar(ind, dataset_1_means, width, color='r', yerr = dataset_1_std, alpha = alpha, \n",
    "                capsize = 3, error_kw = {'elinewidth':1})\n",
    "rects2 = ax[0].bar(ind + width, dataset_2_means, width, color='g', yerr = dataset_2_std, alpha = alpha, \n",
    "                capsize = 3, error_kw = {'elinewidth':1})\n",
    "\n",
    "line_1 = ax[0].plot(np.linspace(-0.25, 2.5, 100), np.linspace(1.0, 1.0, 100), linestyle = '--', linewidth = 1, color = 'black', alpha = 1)\n",
    "\n",
    "ax[0].set_ylim([0,1.25])\n",
    "ax[0].set_xlim([-0.25,2.55])\n",
    "# add some text for labels, title and axes ticks\n",
    "ax[0].set_xlabel('Test Maze', fontsize=14,  labelpad = 5)\n",
    "ax[0].set_ylabel('Number of Squares Visited Per Time Step', fontsize=14, labelpad = 5)\n",
    "ax[0].set_title('')\n",
    "ax[0].set_xticks(ind + width / 2)\n",
    "ax[0].set_xticklabels(('Maze 1', 'Maze 2', 'Maze 3'))\n",
    "\n",
    "ax[0].legend((rects1[0], rects2[0]), ('Complete', 'Incomplete'), loc = 'upper right', fontsize=12)\n",
    "\n",
    "ax[0].tick_params(labelsize=12)\n",
    "\n",
    "dataset_1_means = dataset_complete_exploration_means\n",
    "dataset_2_means = dataset_incomplete_exploration_means\n",
    "dataset_1_std = dataset_complete_exploration_std\n",
    "dataset_2_std = dataset_incomplete_exploration_std\n",
    "\n",
    "rects1 = ax[1].bar(ind, dataset_1_means, width, color='r', yerr = dataset_1_std, alpha = alpha, \n",
    "                capsize = 3, error_kw = {'elinewidth':1})\n",
    "rects2 = ax[1].bar(ind + width, dataset_2_means, width, color='g', yerr = dataset_2_std, alpha = alpha, \n",
    "                capsize = 3, error_kw = {'elinewidth':1})\n",
    "\n",
    "ax[1].set_ylim([0,3000])\n",
    "ax[1].set_xlim([-0.25,2.55])\n",
    "# add some text for labels, title and axes ticks\n",
    "ax[1].set_xlabel('Test Maze', fontsize=14,  labelpad = 5)\n",
    "ax[1].set_ylabel('Exploration Time', fontsize=14, labelpad = 5)\n",
    "ax[1].set_title('')\n",
    "ax[1].set_xticks(ind + width / 2)\n",
    "ax[1].set_xticklabels(('Maze 1', 'Maze 2', 'Maze 3'))\n",
    "\n",
    "ax[1].legend((rects1[0], rects2[0]), ('Complete', 'Incomplete'), loc = 'upper right', fontsize=12)\n",
    "\n",
    "ax[1].tick_params(labelsize=12)\n",
    "\n",
    "plt.tight_layout(w_pad=2, h_pad=0)\n",
    "plt.show()\n",
    "\n",
    "fig.savefig('complete_vs_incomplete.jpeg', format='jpeg', dpi=600, bbox_inches='tight')"
   ]
  },
  {
   "cell_type": "markdown",
   "metadata": {},
   "source": [
    "Compare the \"Number of Grid Visited Per Time Step during Exploration\" and \"Exploration Time\" between \"True\" and \"False\" of \"Heuristics\" mode when \"Mode\" is \"Incomplete\" and \"Intuition\" are false."
   ]
  },
  {
   "cell_type": "code",
   "execution_count": 269,
   "metadata": {
    "collapsed": true
   },
   "outputs": [],
   "source": [
    "dataset_heuristics_means = summary_mean[(summary_mean['Mode'] == 'complete') & (summary_mean['Intuition'] == False) & (summary_mean['Heuristics'] == True)]\n",
    "dataset_not_heuristics_means = summary_mean[(summary_mean['Mode'] == 'complete') & (summary_mean['Intuition'] == False) & (summary_mean['Heuristics'] == False)]"
   ]
  },
  {
   "cell_type": "code",
   "execution_count": 270,
   "metadata": {
    "collapsed": true
   },
   "outputs": [],
   "source": [
    "dataset_heuristics_std = summary_std[(summary_std['Mode'] == 'complete') & (summary_std['Intuition'] == False) & (summary_std['Heuristics'] == True)]\n",
    "dataset_not_heuristics_std = summary_std[(summary_std['Mode'] == 'complete') & (summary_std['Intuition'] == False) & (summary_std['Heuristics'] == False)]"
   ]
  },
  {
   "cell_type": "code",
   "execution_count": 271,
   "metadata": {
    "collapsed": true
   },
   "outputs": [],
   "source": [
    "dataset_heuristics_nsquares_means = dataset_heuristics_means['Number of Grid Visited Per Time Step during Exploration'].tolist()\n",
    "dataset_not_heuristics_nsquares_means = dataset_not_heuristics_means['Number of Grid Visited Per Time Step during Exploration'].tolist()"
   ]
  },
  {
   "cell_type": "code",
   "execution_count": 272,
   "metadata": {
    "collapsed": true
   },
   "outputs": [],
   "source": [
    "dataset_heuristics_nsquares_std = dataset_heuristics_std['Number of Grid Visited Per Time Step during Exploration'].tolist()\n",
    "dataset_not_heuristics_nsquares_std = dataset_not_heuristics_std['Number of Grid Visited Per Time Step during Exploration'].tolist()"
   ]
  },
  {
   "cell_type": "code",
   "execution_count": 273,
   "metadata": {
    "collapsed": true
   },
   "outputs": [],
   "source": [
    "dataset_heuristics_exploration_means = dataset_heuristics_means['Exploration Time'].tolist()\n",
    "dataset_not_heuristics_exploration_means = dataset_not_heuristics_means['Exploration Time'].tolist()"
   ]
  },
  {
   "cell_type": "code",
   "execution_count": 274,
   "metadata": {
    "collapsed": true
   },
   "outputs": [],
   "source": [
    "dataset_heuristics_exploration_std = dataset_heuristics_std['Exploration Time'].tolist()\n",
    "dataset_not_heuristics_exploration_std = dataset_not_heuristics_std['Exploration Time'].tolist()"
   ]
  },
  {
   "cell_type": "code",
   "execution_count": 275,
   "metadata": {
    "collapsed": false
   },
   "outputs": [
    {
     "data": {
      "image/png": "[encoded data removed]",
      "text/plain": [
       "<matplotlib.figure.Figure at 0x1626d4a8>"
      ]
     },
     "metadata": {},
     "output_type": "display_data"
    }
   ],
   "source": [
    "dataset_1_means = dataset_not_heuristics_nsquares_means\n",
    "dataset_2_means = dataset_heuristics_nsquares_means\n",
    "dataset_1_std = dataset_not_heuristics_nsquares_std\n",
    "dataset_2_std = dataset_heuristics_nsquares_std\n",
    "\n",
    "N = len(dataset_1_means)\n",
    "ind = np.arange(N)  # the x locations for the groups\n",
    "width = 0.30       # the width of the bars\n",
    "alpha = 0.85\n",
    "\n",
    "fig, ax = plt.subplots(nrows = 1, ncols = 2, figsize = (10, 5))\n",
    "\n",
    "rects1 = ax[0].bar(ind, dataset_1_means, width, color='red', yerr = dataset_1_std, alpha = alpha, \n",
    "                capsize = 3, error_kw = {'elinewidth':1})\n",
    "rects2 = ax[0].bar(ind + width, dataset_2_means, width, color='blue', yerr = dataset_2_std, alpha = alpha, \n",
    "                capsize = 3, error_kw = {'elinewidth':1})\n",
    "\n",
    "line_1 = ax[0].plot(np.linspace(-0.25, 2.5, 100), np.linspace(1.0, 1.0, 100), linestyle = '--', linewidth = 1, color = 'black', alpha = 1)\n",
    "\n",
    "ax[0].set_ylim([0,1.25])\n",
    "ax[0].set_xlim([-0.25,2.55])\n",
    "# add some text for labels, title and axes ticks\n",
    "ax[0].set_xlabel('Test Maze', fontsize=14,  labelpad = 5)\n",
    "ax[0].set_ylabel('Number of Squares Visited Per Time Step', fontsize=14, labelpad = 5)\n",
    "ax[0].set_title('')\n",
    "ax[0].set_xticks(ind + width / 2)\n",
    "ax[0].set_xticklabels(('Maze 1', 'Maze 2', 'Maze 3'))\n",
    "\n",
    "ax[0].legend((rects1[0], rects2[0]), ('No Heuristics', 'Heuristics'), loc = 'upper right', fontsize=12)\n",
    "\n",
    "ax[0].tick_params(labelsize=12)\n",
    "\n",
    "dataset_1_means = dataset_not_heuristics_exploration_means\n",
    "dataset_2_means = dataset_heuristics_exploration_means\n",
    "dataset_1_std = dataset_not_heuristics_exploration_std\n",
    "dataset_2_std = dataset_heuristics_exploration_std\n",
    "\n",
    "rects1 = ax[1].bar(ind, dataset_1_means, width, color='red', yerr = dataset_1_std, alpha = alpha, \n",
    "                capsize = 3, error_kw = {'elinewidth':1})\n",
    "rects2 = ax[1].bar(ind + width, dataset_2_means, width, color='blue', yerr = dataset_2_std, alpha = alpha, \n",
    "                capsize = 3, error_kw = {'elinewidth':1})\n",
    "\n",
    "ax[1].set_ylim([0,3000])\n",
    "ax[1].set_xlim([-0.25,2.55])\n",
    "# add some text for labels, title and axes ticks\n",
    "ax[1].set_xlabel('Test Maze', fontsize=14,  labelpad = 5)\n",
    "ax[1].set_ylabel('Exploration Time', fontsize=14, labelpad = 5)\n",
    "ax[1].set_title('')\n",
    "ax[1].set_xticks(ind + width / 2)\n",
    "ax[1].set_xticklabels(('Maze 1', 'Maze 2', 'Maze 3'))\n",
    "\n",
    "ax[1].legend((rects1[0], rects2[0]), ('No Heuristics', 'Heuristics'), loc = 'upper right', fontsize=12)\n",
    "\n",
    "ax[1].tick_params(labelsize=12)\n",
    "\n",
    "plt.tight_layout(w_pad=2, h_pad=0)\n",
    "plt.show()\n",
    "\n",
    "fig.savefig('no_heuristics_vs_heuristics.jpeg', format='jpeg', dpi=600, bbox_inches='tight')"
   ]
  },
  {
   "cell_type": "markdown",
   "metadata": {},
   "source": [
    "Compare the \"Number of Grid Visited Per Time Step during Exploration\" and \"Exploration Time\" between \"True\" and \"False\" of \"Intuition\" mode when \"Mode\" is \"Incomplete\" and \"Heuristics\" are false."
   ]
  },
  {
   "cell_type": "code",
   "execution_count": 276,
   "metadata": {
    "collapsed": true
   },
   "outputs": [],
   "source": [
    "dataset_intuition_means = summary_mean[(summary_mean['Mode'] == 'complete') & (summary_mean['Intuition'] == True) & (summary_mean['Heuristics'] == False)]\n",
    "dataset_not_intuition_means = summary_mean[(summary_mean['Mode'] == 'complete') & (summary_mean['Intuition'] == False) & (summary_mean['Heuristics'] == False)]"
   ]
  },
  {
   "cell_type": "code",
   "execution_count": 277,
   "metadata": {
    "collapsed": true
   },
   "outputs": [],
   "source": [
    "dataset_intuition_std = summary_std[(summary_std['Mode'] == 'complete') & (summary_std['Intuition'] == True) & (summary_std['Heuristics'] == False)]\n",
    "dataset_not_intuition_std = summary_std[(summary_std['Mode'] == 'complete') & (summary_std['Intuition'] == False) & (summary_std['Heuristics'] == False)]"
   ]
  },
  {
   "cell_type": "code",
   "execution_count": 278,
   "metadata": {
    "collapsed": true
   },
   "outputs": [],
   "source": [
    "dataset_intuition_nsquares_means = dataset_intuition_means['Number of Grid Visited Per Time Step during Exploration'].tolist()\n",
    "dataset_not_intuition_nsquares_means = dataset_not_intuition_means['Number of Grid Visited Per Time Step during Exploration'].tolist()"
   ]
  },
  {
   "cell_type": "code",
   "execution_count": 279,
   "metadata": {
    "collapsed": true
   },
   "outputs": [],
   "source": [
    "dataset_intuition_nsquares_std = dataset_intuition_std['Number of Grid Visited Per Time Step during Exploration'].tolist()\n",
    "dataset_not_intuition_nsquares_std = dataset_not_intuition_std['Number of Grid Visited Per Time Step during Exploration'].tolist()"
   ]
  },
  {
   "cell_type": "code",
   "execution_count": 280,
   "metadata": {
    "collapsed": true
   },
   "outputs": [],
   "source": [
    "dataset_intuition_exploration_means = dataset_intuition_means['Exploration Time'].tolist()\n",
    "dataset_not_intuition_exploration_means = dataset_not_intuition_means['Exploration Time'].tolist()"
   ]
  },
  {
   "cell_type": "code",
   "execution_count": 281,
   "metadata": {
    "collapsed": true
   },
   "outputs": [],
   "source": [
    "dataset_intuition_exploration_std = dataset_intuition_std['Exploration Time'].tolist()\n",
    "dataset_not_intuition_exploration_std = dataset_not_intuition_std['Exploration Time'].tolist()"
   ]
  },
  {
   "cell_type": "code",
   "execution_count": 282,
   "metadata": {
    "collapsed": false
   },
   "outputs": [
    {
     "data": {
      "image/png": "[encoded data removed]",
      "text/plain": [
       "<matplotlib.figure.Figure at 0x1dae5b70>"
      ]
     },
     "metadata": {},
     "output_type": "display_data"
    }
   ],
   "source": [
    "dataset_1_means = dataset_not_intuition_nsquares_means\n",
    "dataset_2_means = dataset_intuition_nsquares_means\n",
    "dataset_1_std = dataset_not_intuition_nsquares_std\n",
    "dataset_2_std = dataset_intuition_nsquares_std\n",
    "\n",
    "N = len(dataset_1_means)\n",
    "ind = np.arange(N)  # the x locations for the groups\n",
    "width = 0.30       # the width of the bars\n",
    "alpha = 0.85\n",
    "\n",
    "fig, ax = plt.subplots(nrows = 1, ncols = 2, figsize = (10, 5))\n",
    "\n",
    "rects1 = ax[0].bar(ind, dataset_1_means, width, color='red', yerr = dataset_1_std, alpha = alpha, \n",
    "                capsize = 3, error_kw = {'elinewidth':1})\n",
    "rects2 = ax[0].bar(ind + width, dataset_2_means, width, color='deepskyblue', yerr = dataset_2_std, alpha = alpha, \n",
    "                capsize = 3, error_kw = {'elinewidth':1})\n",
    "\n",
    "line_1 = ax[0].plot(np.linspace(-0.25, 2.5, 100), np.linspace(1.0, 1.0, 100), linestyle = '--', linewidth = 1, color = 'black', alpha = 1)\n",
    "\n",
    "ax[0].set_ylim([0,1.25])\n",
    "ax[0].set_xlim([-0.25,2.55])\n",
    "# add some text for labels, title and axes ticks\n",
    "ax[0].set_xlabel('Test Maze', fontsize=14,  labelpad = 5)\n",
    "ax[0].set_ylabel('Number of Squares Visited Per Time Step', fontsize=14, labelpad = 5)\n",
    "ax[0].set_title('')\n",
    "ax[0].set_xticks(ind + width / 2)\n",
    "ax[0].set_xticklabels(('Maze 1', 'Maze 2', 'Maze 3'))\n",
    "\n",
    "ax[0].legend((rects1[0], rects2[0]), ('No Intuition', 'Intuition'), loc = 'upper right', fontsize=12)\n",
    "\n",
    "ax[0].tick_params(labelsize=12)\n",
    "\n",
    "dataset_1_means = dataset_not_intuition_exploration_means\n",
    "dataset_2_means = dataset_intuition_exploration_means\n",
    "dataset_1_std = dataset_not_intuition_exploration_std\n",
    "dataset_2_std = dataset_intuition_exploration_std\n",
    "\n",
    "rects1 = ax[1].bar(ind, dataset_1_means, width, color='red', yerr = dataset_1_std, alpha = alpha, \n",
    "                capsize = 3, error_kw = {'elinewidth':1})\n",
    "rects2 = ax[1].bar(ind + width, dataset_2_means, width, color='deepskyblue', yerr = dataset_2_std, alpha = alpha, \n",
    "                capsize = 3, error_kw = {'elinewidth':1})\n",
    "\n",
    "ax[1].set_ylim([0,3000])\n",
    "ax[1].set_xlim([-0.25,2.55])\n",
    "# add some text for labels, title and axes ticks\n",
    "ax[1].set_xlabel('Test Maze', fontsize=14,  labelpad = 5)\n",
    "ax[1].set_ylabel('Exploration Time', fontsize=14, labelpad = 5)\n",
    "ax[1].set_title('')\n",
    "ax[1].set_xticks(ind + width / 2)\n",
    "ax[1].set_xticklabels(('Maze 1', 'Maze 2', 'Maze 3'))\n",
    "\n",
    "ax[1].legend((rects1[0], rects2[0]), ('No Intuition', 'Intuition'), loc = 'upper right', fontsize=12)\n",
    "\n",
    "ax[1].tick_params(labelsize=12)\n",
    "\n",
    "plt.tight_layout(w_pad=2, h_pad=0)\n",
    "plt.show()\n",
    "\n",
    "fig.savefig('no_intuition_vs_intuition.jpeg', format='jpeg', dpi=600, bbox_inches='tight')"
   ]
  },
  {
   "cell_type": "markdown",
   "metadata": {},
   "source": [
    "Compare the \"Score\" and \"Computation Time\" between (\"Complete\", \"Heuristics\", \"Intuition\") and (\"Incomplete\", \"No Heuristics\", \"No Intuition\")."
   ]
  },
  {
   "cell_type": "code",
   "execution_count": 283,
   "metadata": {
    "collapsed": true
   },
   "outputs": [],
   "source": [
    "dataset_worst_means = summary_mean[(summary_mean['Mode'] == 'complete') & (summary_mean['Intuition'] == False) & (summary_mean['Heuristics'] == False)]\n",
    "dataset_best_means = summary_mean[(summary_mean['Mode'] == 'incomplete') & (summary_mean['Intuition'] == True) & (summary_mean['Heuristics'] == True)]"
   ]
  },
  {
   "cell_type": "code",
   "execution_count": 284,
   "metadata": {
    "collapsed": true
   },
   "outputs": [],
   "source": [
    "dataset_worst_std = summary_std[(summary_std['Mode'] == 'complete') & (summary_std['Intuition'] == False) & (summary_std['Heuristics'] == False)]\n",
    "dataset_best_std = summary_std[(summary_std['Mode'] == 'incomplete') & (summary_std['Intuition'] == True) & (summary_std['Heuristics'] == True)]"
   ]
  },
  {
   "cell_type": "code",
   "execution_count": 285,
   "metadata": {
    "collapsed": true
   },
   "outputs": [],
   "source": [
    "dataset_best_score_means = dataset_best_means['Score'].tolist()\n",
    "dataset_worst_score_means = dataset_worst_means['Score'].tolist()"
   ]
  },
  {
   "cell_type": "code",
   "execution_count": 286,
   "metadata": {
    "collapsed": true
   },
   "outputs": [],
   "source": [
    "dataset_best_score_std = dataset_best_std['Score'].tolist()\n",
    "dataset_worst_score_std = dataset_worst_std['Score'].tolist()"
   ]
  },
  {
   "cell_type": "code",
   "execution_count": 287,
   "metadata": {
    "collapsed": true
   },
   "outputs": [],
   "source": [
    "dataset_best_computation_means = dataset_best_means['Computation Time'].tolist()\n",
    "dataset_worst_computation_means = dataset_worst_means['Computation Time'].tolist()"
   ]
  },
  {
   "cell_type": "code",
   "execution_count": 288,
   "metadata": {
    "collapsed": true
   },
   "outputs": [],
   "source": [
    "dataset_best_computation_std = dataset_best_std['Computation Time'].tolist()\n",
    "dataset_worst_computation_std = dataset_worst_std['Computation Time'].tolist()"
   ]
  },
  {
   "cell_type": "code",
   "execution_count": 289,
   "metadata": {
    "collapsed": true
   },
   "outputs": [],
   "source": [
    "dataset_best_nsquares_means = dataset_best_means['Number of Grid Visited Per Time Step during Exploration'].tolist()\n",
    "dataset_worst_nsquares_means = dataset_worst_means['Number of Grid Visited Per Time Step during Exploration'].tolist()"
   ]
  },
  {
   "cell_type": "code",
   "execution_count": 290,
   "metadata": {
    "collapsed": true
   },
   "outputs": [],
   "source": [
    "dataset_best_nsquares_std = dataset_best_std['Number of Grid Visited Per Time Step during Exploration'].tolist()\n",
    "dataset_worst_nsquares_std = dataset_worst_std['Number of Grid Visited Per Time Step during Exploration'].tolist()"
   ]
  },
  {
   "cell_type": "code",
   "execution_count": 291,
   "metadata": {
    "collapsed": true
   },
   "outputs": [],
   "source": [
    "dataset_best_exploration_means = dataset_best_means['Exploration Time'].tolist()\n",
    "dataset_worst_exploration_means = dataset_worst_means['Exploration Time'].tolist()"
   ]
  },
  {
   "cell_type": "code",
   "execution_count": 292,
   "metadata": {
    "collapsed": true
   },
   "outputs": [],
   "source": [
    "dataset_best_exploration_std = dataset_best_std['Exploration Time'].tolist()\n",
    "dataset_worst_exploration_std = dataset_worst_std['Exploration Time'].tolist()"
   ]
  },
  {
   "cell_type": "code",
   "execution_count": 293,
   "metadata": {
    "collapsed": false
   },
   "outputs": [
    {
     "data": {
      "image/png": "[encoded data removed]",
      "text/plain": [
       "<matplotlib.figure.Figure at 0xa4aae10>"
      ]
     },
     "metadata": {},
     "output_type": "display_data"
    }
   ],
   "source": [
    "dataset_1_means = dataset_worst_score_means\n",
    "dataset_2_means = dataset_best_score_means\n",
    "dataset_1_std = dataset_worst_score_std\n",
    "dataset_2_std = dataset_best_score_std\n",
    "\n",
    "N = len(dataset_1_means)\n",
    "ind = np.arange(N)  # the x locations for the groups\n",
    "width = 0.30       # the width of the bars\n",
    "alpha = 0.85\n",
    "\n",
    "fig, ax = plt.subplots(nrows = 1, ncols = 2, figsize = (10, 5))\n",
    "\n",
    "rects1 = ax[0].bar(ind, dataset_1_means, width, color='red', yerr = dataset_1_std, alpha = alpha, \n",
    "                capsize = 3, error_kw = {'elinewidth':1})\n",
    "rects2 = ax[0].bar(ind + width, dataset_2_means, width, color='orange', yerr = dataset_2_std, alpha = alpha, \n",
    "                capsize = 3, error_kw = {'elinewidth':1})\n",
    "\n",
    "ax[0].set_ylim([0,50])\n",
    "ax[0].set_xlim([-0.25,2.55])\n",
    "# add some text for labels, title and axes ticks\n",
    "ax[0].set_xlabel('Test Maze', fontsize=14,  labelpad = 5)\n",
    "ax[0].set_ylabel('Score', fontsize=14, labelpad = 5)\n",
    "ax[0].set_title('')\n",
    "ax[0].set_xticks(ind + width / 2)\n",
    "ax[0].set_xticklabels(('Maze 1', 'Maze 2', 'Maze 3'))\n",
    "\n",
    "ax[0].legend((rects1[0], rects2[0]), ('Complete, No Heuristics, No Intuition', 'Incomplete, Heuristics, Intuition'), loc = 'upper right', fontsize=12)\n",
    "\n",
    "ax[0].tick_params(labelsize=12)\n",
    "\n",
    "dataset_1_means = dataset_worst_computation_means\n",
    "dataset_2_means = dataset_best_computation_means\n",
    "dataset_1_std = dataset_worst_computation_std\n",
    "dataset_2_std = dataset_best_computation_std\n",
    "\n",
    "rects1 = ax[1].bar(ind, dataset_1_means, width, color='red', yerr = dataset_1_std, alpha = alpha, \n",
    "                capsize = 3, error_kw = {'elinewidth':1})\n",
    "rects2 = ax[1].bar(ind + width, dataset_2_means, width, color='orange', yerr = dataset_2_std, alpha = alpha, \n",
    "                capsize = 3, error_kw = {'elinewidth':1})\n",
    "\n",
    "ax[1].set_ylim([0,3000])\n",
    "ax[1].set_xlim([-0.25,2.55])\n",
    "# add some text for labels, title and axes ticks\n",
    "ax[1].set_xlabel('Test Maze', fontsize=14,  labelpad = 5)\n",
    "ax[1].set_ylabel('Computation Time', fontsize=14, labelpad = 5)\n",
    "ax[1].set_title('')\n",
    "ax[1].set_xticks(ind + width / 2)\n",
    "ax[1].set_xticklabels(('Maze 1', 'Maze 2', 'Maze 3'))\n",
    "\n",
    "ax[1].legend((rects1[0], rects2[0]), ('Complete, No Heuristics, No Intuition', 'Incomplete, Heuristics, Intuition'), loc = 'upper right', fontsize=12)\n",
    "\n",
    "ax[1].tick_params(labelsize=12)\n",
    "\n",
    "plt.tight_layout(w_pad=2, h_pad=0)\n",
    "plt.show()\n",
    "\n",
    "fig.savefig('score_worst_vs_best.jpeg', format='jpeg', dpi=600, bbox_inches='tight')"
   ]
  },
  {
   "cell_type": "code",
   "execution_count": 294,
   "metadata": {
    "collapsed": false
   },
   "outputs": [
    {
     "data": {
      "image/png": "[encoded data removed]",
      "text/plain": [
       "<matplotlib.figure.Figure at 0x18133eb8>"
      ]
     },
     "metadata": {},
     "output_type": "display_data"
    }
   ],
   "source": [
    "dataset_1_means = dataset_worst_nsquares_means\n",
    "dataset_2_means = dataset_best_nsquares_means\n",
    "dataset_1_std = dataset_worst_nsquares_std\n",
    "dataset_2_std = dataset_best_nsquares_std\n",
    "\n",
    "N = len(dataset_1_means)\n",
    "ind = np.arange(N)  # the x locations for the groups\n",
    "width = 0.30       # the width of the bars\n",
    "alpha = 0.85\n",
    "\n",
    "fig, ax = plt.subplots(nrows = 1, ncols = 2, figsize = (10, 5))\n",
    "\n",
    "rects1 = ax[0].bar(ind, dataset_1_means, width, color='red', yerr = dataset_1_std, alpha = alpha, \n",
    "                capsize = 3, error_kw = {'elinewidth':1})\n",
    "rects2 = ax[0].bar(ind + width, dataset_2_means, width, color='orange', yerr = dataset_2_std, alpha = alpha, \n",
    "                capsize = 3, error_kw = {'elinewidth':1})\n",
    "\n",
    "ax[0].set_ylim([0,1.2])\n",
    "ax[0].set_xlim([-0.25,2.55])\n",
    "# add some text for labels, title and axes ticks\n",
    "ax[0].set_xlabel('Test Maze', fontsize=14,  labelpad = 5)\n",
    "ax[0].set_ylabel('Number of Squares Visited Per Time Step', fontsize=14, labelpad = 5)\n",
    "ax[0].set_title('')\n",
    "ax[0].set_xticks(ind + width / 2)\n",
    "ax[0].set_xticklabels(('Maze 1', 'Maze 2', 'Maze 3'))\n",
    "\n",
    "line_1 = ax[0].plot(np.linspace(-0.25, 2.5, 100), np.linspace(1.0, 1.0, 100), linestyle = '--', linewidth = 1, color = 'black', alpha = 1)\n",
    "\n",
    "ax[0].legend((rects1[0], rects2[0]), ('Complete, No Heuristics, No Intuition', 'Incomplete, Heuristics, Intuition'), loc = 'upper right', fontsize=12)\n",
    "\n",
    "ax[0].tick_params(labelsize=12)\n",
    "\n",
    "dataset_1_means = dataset_worst_exploration_means\n",
    "dataset_2_means = dataset_best_exploration_means\n",
    "dataset_1_std = dataset_worst_exploration_std\n",
    "dataset_2_std = dataset_best_exploration_std\n",
    "\n",
    "rects1 = ax[1].bar(ind, dataset_1_means, width, color='red', yerr = dataset_1_std, alpha = alpha, \n",
    "                capsize = 3, error_kw = {'elinewidth':1})\n",
    "rects2 = ax[1].bar(ind + width, dataset_2_means, width, color='orange', yerr = dataset_2_std, alpha = alpha, \n",
    "                capsize = 3, error_kw = {'elinewidth':1})\n",
    "\n",
    "ax[1].set_ylim([0,3000])\n",
    "ax[1].set_xlim([-0.25,2.55])\n",
    "# add some text for labels, title and axes ticks\n",
    "ax[1].set_xlabel('Test Maze', fontsize=14,  labelpad = 5)\n",
    "ax[1].set_ylabel('Exploration Time', fontsize=14, labelpad = 5)\n",
    "ax[1].set_title('')\n",
    "ax[1].set_xticks(ind + width / 2)\n",
    "ax[1].set_xticklabels(('Maze 1', 'Maze 2', 'Maze 3'))\n",
    "\n",
    "ax[1].legend((rects1[0], rects2[0]), ('Complete, No Heuristics, No Intuition', 'Incomplete, Heuristics, Intuition'), loc = 'upper right', fontsize=12)\n",
    "\n",
    "ax[1].tick_params(labelsize=12)\n",
    "\n",
    "plt.tight_layout(w_pad=2, h_pad=0)\n",
    "plt.show()\n",
    "\n",
    "fig.savefig('nsquare_worst_vs_best.jpeg', format='jpeg', dpi=600, bbox_inches='tight')"
   ]
  },
  {
   "cell_type": "code",
   "execution_count": null,
   "metadata": {
    "collapsed": true
   },
   "outputs": [],
   "source": []
  },
  {
   "cell_type": "code",
   "execution_count": null,
   "metadata": {
    "collapsed": true
   },
   "outputs": [],
   "source": []
  }
 ],
 "metadata": {
  "anaconda-cloud": {},
  "kernelspec": {
   "display_name": "Python [default]",
   "language": "python",
   "name": "python2"
  },
  "language_info": {
   "codemirror_mode": {
    "name": "ipython",
    "version": 2
   },
   "file_extension": ".py",
   "mimetype": "text/x-python",
   "name": "python",
   "nbconvert_exporter": "python",
   "pygments_lexer": "ipython2",
   "version": "2.7.12"
  }
 },
 "nbformat": 4,
 "nbformat_minor": 1
}
