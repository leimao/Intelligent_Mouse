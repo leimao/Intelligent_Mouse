{
 "cells": [
  {
   "cell_type": "code",
   "execution_count": 3,
   "metadata": {
    "collapsed": false
   },
   "outputs": [
    {
     "data": {
      "application/javascript": [
       "IPython.notebook.set_autosave_interval(0)"
      ]
     },
     "metadata": {},
     "output_type": "display_data"
    },
    {
     "name": "stdout",
     "output_type": "stream",
     "text": [
      "Autosave disabled\n"
     ]
    }
   ],
   "source": [
    "import pandas as pd\n",
    "import numpy as np\n",
    "import matplotlib.pyplot as plt\n",
    "%matplotlib inline\n",
    "%autosave 0"
   ]
  },
  {
   "cell_type": "code",
   "execution_count": 4,
   "metadata": {
    "collapsed": true
   },
   "outputs": [],
   "source": [
    "summary_mean = pd.read_csv('summary_mean.csv', sep = ',')\n",
    "summary_std = pd.read_csv('summary_std.csv', sep = ',')"
   ]
  },
  {
   "cell_type": "code",
   "execution_count": 5,
   "metadata": {
    "collapsed": true
   },
   "outputs": [],
   "source": [
    "dataset_complete_means = summary_mean[(summary_mean['Mode'] == 'complete') & (summary_mean['Intuition'] == False) & (summary_mean['Heuristics'] == False)]\n",
    "dataset_incomplete_means = summary_mean[(summary_mean['Mode'] == 'incomplete') & (summary_mean['Intuition'] == False) & (summary_mean['Heuristics'] == False)]"
   ]
  },
  {
   "cell_type": "code",
   "execution_count": 6,
   "metadata": {
    "collapsed": true
   },
   "outputs": [],
   "source": [
    "dataset_complete_std = summary_std[(summary_std['Mode'] == 'complete') & (summary_std['Intuition'] == False) & (summary_std['Heuristics'] == False)]\n",
    "dataset_incomplete_std = summary_std[(summary_std['Mode'] == 'incomplete') & (summary_std['Intuition'] == False) & (summary_std['Heuristics'] == False)]"
   ]
  },
  {
   "cell_type": "code",
   "execution_count": 7,
   "metadata": {
    "collapsed": true
   },
   "outputs": [],
   "source": [
    "dataset_complete_nsquares_means = dataset_complete_means['Number of Grid Visited Per Time Step during Exploration'].tolist()\n",
    "dataset_incomplete_nsquares_means = dataset_incomplete_means['Number of Grid Visited Per Time Step during Exploration'].tolist()"
   ]
  },
  {
   "cell_type": "code",
   "execution_count": 8,
   "metadata": {
    "collapsed": true
   },
   "outputs": [],
   "source": [
    "dataset_complete_nsquares_std = dataset_complete_std['Number of Grid Visited Per Time Step during Exploration'].tolist()\n",
    "dataset_incomplete_nsquares_std = dataset_incomplete_std['Number of Grid Visited Per Time Step during Exploration'].tolist()"
   ]
  },
  {
   "cell_type": "code",
   "execution_count": 9,
   "metadata": {
    "collapsed": false
   },
   "outputs": [
    {
     "data": {
      "image/png": "[encoded data removed]",
      "text/plain": [
       "<matplotlib.figure.Figure at 0x9de7f98>"
      ]
     },
     "metadata": {},
     "output_type": "display_data"
    }
   ],
   "source": [
    "dataset_1_means = dataset_complete_nsquares_means\n",
    "dataset_2_means = dataset_incomplete_nsquares_means\n",
    "dataset_1_std = dataset_complete_nsquares_std\n",
    "dataset_2_std = dataset_incomplete_nsquares_std\n",
    "\n",
    "N = len(dataset_1_means)\n",
    "ind = np.arange(N)  # the x locations for the groups\n",
    "width = 0.25       # the width of the bars\n",
    "alpha = 0.85\n",
    "\n",
    "fig, ax = plt.subplots()\n",
    "rects1 = ax.bar(ind, dataset_1_means, width, color='r', yerr = dataset_1_std, alpha = alpha, \n",
    "                capsize = 3, error_kw = {'elinewidth':1})\n",
    "rects2 = ax.bar(ind + width, dataset_2_means, width, color='g', yerr = dataset_2_std, alpha = alpha, \n",
    "                capsize = 3, error_kw = {'elinewidth':1})\n",
    "\n",
    "line_1 = ax.plot(np.linspace(-0.25, 2.5, 100), np.linspace(1.0, 1.0, 100), linestyle = '--', linewidth = 1, color = 'black', alpha = 1)\n",
    "\n",
    "ax.set_ylim([0,1.25])\n",
    "ax.set_xlim([-0.25,2.5])\n",
    "# add some text for labels, title and axes ticks\n",
    "ax.set_xlabel('Test Maze', fontsize=11,  labelpad = 10)\n",
    "ax.set_ylabel('Number of Squares Visited Per Time Step', fontsize=11, labelpad = 5)\n",
    "ax.set_title('')\n",
    "ax.set_xticks(ind + width / 2)\n",
    "#ax.set_xticklabels(('Maze 1', 'Maze 2', 'Maze 3'))\n",
    "\n",
    "ax.legend((rects1[0], rects2[0]), ('Complete', 'Incomplete'), loc = 'upper right')\n",
    "\n",
    "plt.show()\n",
    "\n",
    "fig.savefig('test.jpeg', format='jpeg', dpi=1200, bbox_inches='tight')"
   ]
  },
  {
   "cell_type": "code",
   "execution_count": 10,
   "metadata": {
    "collapsed": false
   },
   "outputs": [
    {
     "data": {
      "image/png": "[encoded data removed]",
      "text/plain": [
       "<matplotlib.figure.Figure at 0x9f00908>"
      ]
     },
     "metadata": {},
     "output_type": "display_data"
    }
   ],
   "source": [
    "dataset_1_means = dataset_complete_nsquares_means\n",
    "dataset_2_means = dataset_incomplete_nsquares_means\n",
    "dataset_1_std = dataset_complete_nsquares_std\n",
    "dataset_2_std = dataset_incomplete_nsquares_std\n",
    "\n",
    "N = len(dataset_1_means)\n",
    "ind = np.linspace(0,1.0,N)  # the x locations for the groups\n",
    "width = 0.15       # the width of the bars\n",
    "alpha = 0.85\n",
    "\n",
    "fig, ax = plt.subplots()\n",
    "rects1 = ax.bar(ind, dataset_1_means, width, color='r', yerr = dataset_1_std, alpha = alpha, \n",
    "                capsize = 3, error_kw = {'elinewidth':1})\n",
    "rects2 = ax.bar(ind + width, dataset_2_means, width, color='g', yerr = dataset_2_std, alpha = alpha, \n",
    "                capsize = 3, error_kw = {'elinewidth':1})\n",
    "\n",
    "line_1 = ax.plot(np.linspace(-0.25, 2.5, 100), np.linspace(1.0, 1.0, 100), linestyle = '--', linewidth = 1, color = 'black', alpha = 1)\n",
    "\n",
    "ax.set_ylim([0,1.25])\n",
    "ax.set_xlim([-0.125,1.275])\n",
    "# add some text for labels, title and axes ticks\n",
    "ax.set_xlabel('Test Maze', fontsize=11,  labelpad = 10)\n",
    "ax.set_ylabel('Number of Squares Visited Per Time Step', fontsize=11, labelpad = 5)\n",
    "ax.set_title('')\n",
    "ax.set_xticks(ind + width / 2)\n",
    "ax.set_xticklabels(('Maze 1', 'Maze 2', 'Maze 3'))\n",
    "\n",
    "ax.legend((rects1[0], rects2[0]), ('Complete', 'Incomplete'), loc = 'upper right')\n",
    "\n",
    "plt.show()\n",
    "\n",
    "fig.savefig('test.jpeg', format='jpeg', dpi=1200, bbox_inches='tight')"
   ]
  },
  {
   "cell_type": "code",
   "execution_count": 11,
   "metadata": {
    "collapsed": true
   },
   "outputs": [],
   "source": [
    "dataset_complete_exploration_means = dataset_complete_means['Exploration Time'].tolist()\n",
    "dataset_incomplete_exploration_means = dataset_incomplete_means['Exploration Time'].tolist()"
   ]
  },
  {
   "cell_type": "code",
   "execution_count": 12,
   "metadata": {
    "collapsed": true
   },
   "outputs": [],
   "source": [
    "dataset_complete_exploration_std = dataset_complete_std['Exploration Time'].tolist()\n",
    "dataset_incomplete_exploration_std = dataset_incomplete_std['Exploration Time'].tolist()"
   ]
  },
  {
   "cell_type": "code",
   "execution_count": 13,
   "metadata": {
    "collapsed": false
   },
   "outputs": [
    {
     "data": {
      "image/png": "[encoded data removed]",
      "text/plain": [
       "<matplotlib.figure.Figure at 0x9604048>"
      ]
     },
     "metadata": {},
     "output_type": "display_data"
    }
   ],
   "source": [
    "dataset_1_means = dataset_complete_exploration_means\n",
    "dataset_2_means = dataset_incomplete_exploration_means\n",
    "dataset_1_std = dataset_complete_exploration_std\n",
    "dataset_2_std = dataset_incomplete_exploration_std\n",
    "\n",
    "N = len(dataset_1_means)\n",
    "ind = np.arange(N)  # the x locations for the groups\n",
    "width = 0.25       # the width of the bars\n",
    "alpha = 0.85\n",
    "\n",
    "fig, ax = plt.subplots()\n",
    "\n",
    "rects1 = ax.bar(ind, dataset_1_means, width, color='r', yerr = dataset_1_std, alpha = alpha, \n",
    "                capsize = 3, error_kw = {'elinewidth':1})\n",
    "rects2 = ax.bar(ind + width, dataset_2_means, width, color='g', yerr = dataset_2_std, alpha = alpha, \n",
    "                capsize = 3, error_kw = {'elinewidth':1})\n",
    "\n",
    "line_1 = ax.plot(np.linspace(-0.25, 2.5, 100), np.linspace(1.0, 1.0, 100), linestyle = '--', linewidth = 1, color = 'black', alpha = 1)\n",
    "\n",
    "ax.set_ylim([0,3000])\n",
    "ax.set_xlim([-0.25,2.5])\n",
    "# add some text for labels, title and axes ticks\n",
    "ax.set_xlabel('Test Maze', fontsize=11,  labelpad = 10)\n",
    "ax.set_ylabel('Exploration Time', fontsize=11, labelpad = 5)\n",
    "ax.set_title('')\n",
    "ax.set_xticks(ind + width / 2)\n",
    "ax.set_xticklabels(('Maze 1', 'Maze 2', 'Maze 3'))\n",
    "\n",
    "ax.legend((rects1[0], rects2[0]), ('Complete', 'Incomplete'), loc = 'upper right')\n",
    "\n",
    "plt.show()\n",
    "\n",
    "fig.savefig('test.jpeg', format='jpeg', dpi=1200, bbox_inches='tight')"
   ]
  },
  {
   "cell_type": "code",
   "execution_count": null,
   "metadata": {
    "collapsed": true
   },
   "outputs": [],
   "source": []
  },
  {
   "cell_type": "code",
   "execution_count": null,
   "metadata": {
    "collapsed": true
   },
   "outputs": [],
   "source": []
  },
  {
   "cell_type": "code",
   "execution_count": null,
   "metadata": {
    "collapsed": true
   },
   "outputs": [],
   "source": []
  }
 ],
 "metadata": {
  "kernelspec": {
   "display_name": "Python [default]",
   "language": "python",
   "name": "python2"
  },
  "language_info": {
   "codemirror_mode": {
    "name": "ipython",
    "version": 2
   },
   "file_extension": ".py",
   "mimetype": "text/x-python",
   "name": "python",
   "nbconvert_exporter": "python",
   "pygments_lexer": "ipython2",
   "version": "2.7.12"
  }
 },
 "nbformat": 4,
 "nbformat_minor": 1
}
